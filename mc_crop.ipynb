{
 "cells": [
  {
   "cell_type": "code",
   "execution_count": 1,
   "metadata": {},
   "outputs": [],
   "source": [
    "# this notebook is for cropping and rewriting the wav files of mc dataset\n",
    "\n",
    "from scipy.io.wavfile import read, write\n",
    "import json\n",
    "import os\n",
    "import numpy as np\n",
    "import time"
   ]
  },
  {
   "cell_type": "code",
   "execution_count": 12,
   "metadata": {},
   "outputs": [],
   "source": [
    "soundDir = \"musiccritic/\"\n",
    "annotationDir = soundDir + \"Annotations/\"\n",
    "\n",
    "newsoundDir = \"musiccritic_cropped/\"\n",
    "newAnnoDir = newsoundDir + \"Annotations/\"\n",
    "\n",
    "try:\n",
    "    os.mkdir(newsoundDir)\n",
    "    os.mkdir(newAnnoDir)\n",
    "except:\n",
    "    pass\n",
    "\n",
    "for file in os.listdir(annotationDir):\n",
    "    soundfile = soundDir + file + \".wav\"\n",
    "    fs,x = read(soundfile)\n",
    "    with open(annotationDir + file +\"/\" + \"crop.txt\",'r') as f:\n",
    "        cropinfo = json.load(f)\n",
    "    with open(annotationDir + file +\"/\" + \"onset.txt\",'r') as f:\n",
    "        onsets = json.load(f)\n",
    "    \n",
    "    onsets = np.array(onsets)\n",
    "    onsets = onsets[onsets<cropinfo[1]]\n",
    "    onsets = onsets[onsets>cropinfo[0]]\n",
    "    newonsets = onsets - cropinfo[0]\n",
    "    try:\n",
    "        os.mkdir(newAnnoDir + file)\n",
    "    except:\n",
    "        pass\n",
    "    \n",
    "    with open(newAnnoDir + file +\"/\" + \"onset.txt\",'w') as f:\n",
    "        json.dump(newonsets.tolist(),f)\n",
    "        time.sleep(0.02)\n",
    "    \n",
    "    write(newsoundDir+file+\".wav\",fs,x[int(cropinfo[0]):int(cropinfo[1])])\n",
    "    time.sleep(0.02)"
   ]
  },
  {
   "cell_type": "code",
   "execution_count": 13,
   "metadata": {},
   "outputs": [],
   "source": [
    "# if this cell prints, increase the time.sleep duration in the cell above and run again\n",
    "for file in os.listdir(newAnnoDir):\n",
    "    with open(annotationDir + file +\"/\" + \"onset.txt\",'r') as f:\n",
    "        onsets = json.load(f)\n",
    "    if len(onsets)==0:\n",
    "        print(file)"
   ]
  }
 ],
 "metadata": {
  "kernelspec": {
   "display_name": "Python 3",
   "language": "python",
   "name": "python3"
  },
  "language_info": {
   "codemirror_mode": {
    "name": "ipython",
    "version": 3
   },
   "file_extension": ".py",
   "mimetype": "text/x-python",
   "name": "python",
   "nbconvert_exporter": "python",
   "pygments_lexer": "ipython3",
   "version": "3.6.8"
  }
 },
 "nbformat": 4,
 "nbformat_minor": 4
}
